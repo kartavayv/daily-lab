{
  "nbformat": 4,
  "nbformat_minor": 0,
  "metadata": {
    "colab": {
      "provenance": []
    },
    "kernelspec": {
      "name": "python3",
      "display_name": "Python 3"
    },
    "language_info": {
      "name": "python"
    }
  },
  "cells": [
    {
      "cell_type": "code",
      "execution_count": 1,
      "metadata": {
        "id": "VKT0nrclcbfA"
      },
      "outputs": [],
      "source": [
        "import numpy as np\n",
        "import h5py\n",
        "import matplotlib.pyplot as plt\n",
        "import pandas as pd"
      ]
    },
    {
      "cell_type": "code",
      "source": [
        "def initialize_params_deep(layer_dims, X):\n",
        "  # u = len(layer_dims)\n",
        "  params = {}\n",
        "  a =  0\n",
        "  rows = X.shape[0]\n",
        "  for i in range(len(layer_dims)):\n",
        "    if not(a):\n",
        "      W = np.random.randn(layer_dims[i],rows) * 0.01 # Using randn and scaling, this works but using rand does not so beware\n",
        "      a = 1\n",
        "    else:\n",
        "      W = np.random.randn(layer_dims[i],layer_dims[i-1]) * 0.01\n",
        "\n",
        "    b = np.zeros((layer_dims[i],1))\n",
        "    params[f\"W{i+1}\"] = W\n",
        "    params[f\"b{i+1}\"] = b\n",
        "\n",
        "  return params"
      ],
      "metadata": {
        "id": "UkytumsFfx3i"
      },
      "execution_count": 32,
      "outputs": []
    },
    {
      "cell_type": "code",
      "source": [
        "def sigmoid(Z):\n",
        "  A = 1 / (1+ np.exp(-Z))\n",
        "  cache = (Z)\n",
        "  return A, cache\n"
      ],
      "metadata": {
        "id": "2AO7a6eGpsNO"
      },
      "execution_count": 3,
      "outputs": []
    },
    {
      "cell_type": "code",
      "metadata": {
        "id": "e8ecdd3b"
      },
      "source": [
        "def sigmoid_backward(dA, cache):\n",
        "    Z = cache\n",
        "    s = 1/(1+np.exp(-Z))\n",
        "    dZ = dA * s * (1-s)\n",
        "    return dZ"
      ],
      "execution_count": 4,
      "outputs": []
    },
    {
      "cell_type": "code",
      "source": [
        "def relu(Z):\n",
        "  A = np.maximum(0,Z)\n",
        "  cache = Z\n",
        "  return A,cache"
      ],
      "metadata": {
        "id": "tXEwph9Ur_PL"
      },
      "execution_count": 5,
      "outputs": []
    },
    {
      "cell_type": "code",
      "metadata": {
        "id": "efb735b7"
      },
      "source": [
        "def relu_backward(dA, cache):\n",
        "    Z = cache\n",
        "    dZ = np.array(dA, copy=True)\n",
        "\n",
        "    dZ[Z <= 0] = 0\n",
        "    return dZ"
      ],
      "execution_count": 31,
      "outputs": []
    },
    {
      "cell_type": "code",
      "source": [
        "def linear_forward(A,W,b):\n",
        "  Z =  np.dot(W,A) + b #A : activations from the previous layer\n",
        "  cache = (A,W,b)\n",
        "  return Z,cache"
      ],
      "metadata": {
        "id": "mJLnP4WHga8C"
      },
      "execution_count": 7,
      "outputs": []
    },
    {
      "cell_type": "code",
      "source": [
        "def linear_activation_forward(A_prev, W, b, activation):\n",
        "\n",
        "  if activation == \"sigmoid\":\n",
        "    Z, linear_cache = linear_forward(A_prev,W,b)\n",
        "    A, activation_cache = sigmoid(Z)\n",
        "\n",
        "  else :\n",
        "    Z, linear_cache = linear_forward(A_prev,W,b)\n",
        "    A, activation_cache = relu(Z)\n",
        "\n",
        "  cache = (linear_cache, activation_cache)\n",
        "\n",
        "  return A , cache"
      ],
      "metadata": {
        "id": "idrm35INofSg"
      },
      "execution_count": 8,
      "outputs": []
    },
    {
      "cell_type": "code",
      "source": [
        "def L_model_forward(X, parameters):\n",
        "  A = X\n",
        "  caches = []\n",
        "  num_layers = len(parameters) // 2\n",
        "\n",
        "  for i in range(1, num_layers):\n",
        "    A_prev = A\n",
        "    A, cache = linear_activation_forward(A_prev, parameters[f\"W{i}\"], parameters[f\"b{i}\"], \"relu\")\n",
        "    caches.append(cache)\n",
        "\n",
        "  AL, cache = linear_activation_forward(A, parameters[f\"W{num_layers}\"], parameters[f\"b{num_layers}\"], \"sigmoid\")\n",
        "  caches.append(cache)\n",
        "\n",
        "  return AL, caches"
      ],
      "metadata": {
        "id": "fUy3pCywsbyE"
      },
      "execution_count": 30,
      "outputs": []
    },
    {
      "cell_type": "code",
      "source": [
        "def compute_cost(y_pred,y):\n",
        "  m = y.shape[1]\n",
        "  epsilon = 1e-8\n",
        "  y_pred = np.clip(y_pred, epsilon, 1 - epsilon)\n",
        "\n",
        "  cost = (-1/m) * np.sum(np.multiply(y, np.log(y_pred)) + np.multiply((1-y), np.log(1-y_pred)))\n",
        "  cost = np.squeeze(cost) # Ensure cost is a single scalar\n",
        "  return cost"
      ],
      "metadata": {
        "id": "Zhk8ONM3yuQI"
      },
      "execution_count": 29,
      "outputs": []
    },
    {
      "cell_type": "code",
      "source": [
        "def linear_backward(dZ,cache):\n",
        "    A_prev, W, b = cache\n",
        "    m = A_prev.shape[1]\n",
        "    dW = (1/m) * np.dot(dZ, A_prev.T)\n",
        "    db = (1/m) * np.sum(dZ, axis=1, keepdims=True)\n",
        "    dA_prev = np.dot(W.T,dZ)\n",
        "\n",
        "    return dA_prev, dW, db"
      ],
      "metadata": {
        "id": "Cr-FY0Tr9aPX"
      },
      "execution_count": 11,
      "outputs": []
    },
    {
      "cell_type": "code",
      "source": [
        "def linear_activation_backward(dA, cache, activation):\n",
        "  linear_cache, activation_cache = cache\n",
        "\n",
        "  if activation == \"relu\":\n",
        "    dZ = relu_backward(dA, activation_cache)\n",
        "  elif activation == \"sigmoid\":\n",
        "    dZ = sigmoid_backward(dA, activation_cache)\n",
        "\n",
        "  dA_prev, dW, db = linear_backward(dZ,linear_cache)\n",
        "\n",
        "  return dA_prev, dW, db"
      ],
      "metadata": {
        "id": "kxsX3G53Hn45"
      },
      "execution_count": 12,
      "outputs": []
    },
    {
      "cell_type": "code",
      "source": [
        "def L_model_backward(AL, Y, caches):\n",
        "  grads = {}\n",
        "  num_layers = len(caches) # gives number of layers in NN (hidden + output)\n",
        "  m = AL.shape[1]\n",
        "  Y = Y.reshape(AL.shape)\n",
        "  epsilon = 1e-8\n",
        "  dAL = - (np.divide(Y, AL + epsilon) - np.divide(1 - Y, 1 - AL + epsilon))\n",
        "\n",
        "  current_cache = caches[num_layers - 1]\n",
        "  grads[f\"dA{num_layers - 1}\"], grads[f\"dW{num_layers}\"], grads[f\"db{num_layers}\"] = linear_activation_backward(dAL, current_cache, \"sigmoid\")\n",
        "\n",
        "\n",
        "  for l in reversed(range(num_layers - 1)):\n",
        "    current_cache = caches[l]\n",
        "    dA_prev_temp, dW_temp, db_temp = linear_activation_backward(grads[f\"dA{l + 1}\"], current_cache, activation = \"relu\")\n",
        "\n",
        "    grads[f\"dA{l}\"] = dA_prev_temp\n",
        "    grads[f\"dW{l+1}\"] = dW_temp\n",
        "    grads[f\"db{l+1}\"] = db_temp\n",
        "\n",
        "\n",
        "  return grads"
      ],
      "metadata": {
        "id": "qxT5uXvtResm"
      },
      "execution_count": 28,
      "outputs": []
    },
    {
      "cell_type": "code",
      "source": [
        "def update_parameters(params, grads, learning_rate):\n",
        "  parameters = params.copy()\n",
        "  L = len(parameters) // 2\n",
        "\n",
        "  for l in range(L):\n",
        "    parameters[f\"W{l+1}\"] = parameters[f\"W{l+1}\"]  - (learning_rate*grads[f\"dW{l+1}\"])\n",
        "\n",
        "    parameters[f\"b{l+1}\"] = parameters[f\"b{l+1}\"]  - (learning_rate*grads[f\"db{l+1}\"])\n",
        "\n",
        "\n",
        "  return parameters"
      ],
      "metadata": {
        "id": "6pZ3BXg4UC16"
      },
      "execution_count": 43,
      "outputs": []
    },
    {
      "cell_type": "code",
      "source": [
        "data = pd.read_csv"
      ],
      "metadata": {
        "id": "0WawBFQrVR6v"
      },
      "execution_count": null,
      "outputs": []
    },
    {
      "cell_type": "markdown",
      "metadata": {
        "id": "1023f483"
      },
      "source": [
        "First, let's open the H5 file and see what keys (datasets or groups) it contains."
      ]
    },
    {
      "cell_type": "code",
      "metadata": {
        "colab": {
          "base_uri": "https://localhost:8080/"
        },
        "id": "17aced56",
        "outputId": "6b0bf108-d1f2-4f8b-fe70-cbc09ea291a0"
      },
      "source": [
        "# Replace 'your_file.h5' with the actual path to your H5 file\n",
        "h5_file_path = 'train_catvnoncat (2).h5'\n",
        "\n",
        "try:\n",
        "    with h5py.File(h5_file_path, 'r') as f:\n",
        "        print(\"Keys in the H5 file:\")\n",
        "        for key in f.keys():\n",
        "            print(key)\n",
        "\n",
        "        # You can access datasets like this:\n",
        "        # dataset_name = 'name_of_a_dataset_from_the_output_above'\n",
        "        # if dataset_name in f:\n",
        "        #     data = f[dataset_name][()] # Read the dataset into a numpy array\n",
        "        #     print(f\"\\nData from dataset '{dataset_name}':\")\n",
        "        #     print(data)\n",
        "        #     # If the data is structured like a table, you can convert it to a pandas DataFrame\n",
        "        #     # df = pd.DataFrame(data)\n",
        "        #     # display(df.head())\n",
        "\n",
        "except FileNotFoundError:\n",
        "    print(f\"Error: The file '{h5_file_path}' was not found.\")\n",
        "except Exception as e:\n",
        "    print(f\"An error occurred: {e}\")"
      ],
      "execution_count": 15,
      "outputs": [
        {
          "output_type": "stream",
          "name": "stdout",
          "text": [
            "Keys in the H5 file:\n",
            "list_classes\n",
            "train_set_x\n",
            "train_set_y\n"
          ]
        }
      ]
    },
    {
      "cell_type": "markdown",
      "metadata": {
        "id": "713a5abc"
      },
      "source": [
        "Once you know the names of the datasets within the H5 file (printed in the output above), you can uncomment and modify the code in the `try` block to load a specific dataset and potentially convert it to a pandas DataFrame if its structure is suitable. Remember that H5 files can store various types of data, not just tabular data like DataFrames."
      ]
    },
    {
      "cell_type": "code",
      "metadata": {
        "colab": {
          "base_uri": "https://localhost:8080/"
        },
        "id": "1a1d375f",
        "outputId": "d6bbf254-4379-4b76-9dd7-858cf153c9a1"
      },
      "source": [
        "h5_file_path = 'train_catvnoncat (2).h5'\n",
        "\n",
        "try:\n",
        "    with h5py.File(h5_file_path, 'r') as f:\n",
        "        # Load 'train_set_x' into a numpy array\n",
        "        if 'train_set_x' in f:\n",
        "            train_set_x_data = f['train_set_x'][()]\n",
        "            print(\"Loaded 'train_set_x' as numpy array.\")\n",
        "        else:\n",
        "            print(\"Dataset 'train_set_x' not found in the H5 file.\")\n",
        "            train_set_x_data = None # Ensure variable is defined even if dataset is not found\n",
        "\n",
        "        # Load 'train_set_y' into a numpy array\n",
        "        if 'train_set_y' in f:\n",
        "            train_set_y_data = f['train_set_y'][()]\n",
        "            print(\"Loaded 'train_set_y' as numpy array.\")\n",
        "        else:\n",
        "            print(\"Dataset 'train_set_y' not found in the H5 file.\")\n",
        "            train_set_y_data = None # Ensure variable is defined even if dataset is not found\n",
        "\n",
        "except FileNotFoundError:\n",
        "    print(f\"Error: The file '{h5_file_path}' was not found.\")\n",
        "    train_set_x_data = None\n",
        "    train_set_y_data = None\n",
        "except Exception as e:\n",
        "    print(f\"An error occurred: {e}\")\n",
        "    train_set_x_data = None\n",
        "    train_set_y_data = None\n",
        "\n",
        "# You can still try to display parts of the data or convert to DataFrame if appropriate\n",
        "# Example: Display shape of loaded arrays\n",
        "if train_set_x_data is not None:\n",
        "    print(f\"Shape of train_set_x_data: {train_set_x_data.shape}\")\n",
        "if train_set_y_data is not None:\n",
        "    print(f\"Shape of train_set_y_data: {train_set_y_data.shape}\")\n",
        "\n",
        "# If you still want to try converting to DataFrame, handle the structure appropriately\n",
        "# For train_set_x (image data), a direct conversion might not be meaningful\n",
        "# If train_set_y is 1D, it might be convertible\n",
        "# if train_set_y_data is not None and train_set_y_data.ndim == 1:\n",
        "#      df_train_y = pd.DataFrame(train_set_y_data, columns=['label'])\n",
        "#      print(\"\\nDataFrame for 'train_set_y':\")\n",
        "#      display(df_train_y.head())"
      ],
      "execution_count": 42,
      "outputs": [
        {
          "output_type": "stream",
          "name": "stdout",
          "text": [
            "Loaded 'train_set_x' as numpy array.\n",
            "Loaded 'train_set_y' as numpy array.\n",
            "Shape of train_set_x_data: (209, 64, 64, 3)\n",
            "Shape of train_set_y_data: (209,)\n"
          ]
        }
      ]
    },
    {
      "cell_type": "markdown",
      "metadata": {
        "id": "14eb2e66"
      },
      "source": [
        "Let's inspect the shapes of the loaded NumPy arrays and display a sample image."
      ]
    },
    {
      "cell_type": "code",
      "metadata": {
        "colab": {
          "base_uri": "https://localhost:8080/",
          "height": 463
        },
        "id": "aed33da2",
        "outputId": "58ddc76d-78f0-4934-fbe3-af56c6e8cf07"
      },
      "source": [
        "print(f\"Shape of train_set_x_data: {train_set_x_data.shape}\")\n",
        "print(f\"Shape of train_set_y_data: {train_set_y_data.shape}\")\n",
        "\n",
        "# Display a sample image (assuming it's image data)\n",
        "if train_set_x_data.ndim == 4:\n",
        "    plt.imshow(train_set_x_data[0])\n",
        "    plt.title(\"Sample Image from train_set_x\")\n",
        "    plt.axis('off')\n",
        "    plt.show()"
      ],
      "execution_count": 17,
      "outputs": [
        {
          "output_type": "stream",
          "name": "stdout",
          "text": [
            "Shape of train_set_x_data: (209, 64, 64, 3)\n",
            "Shape of train_set_y_data: (209,)\n"
          ]
        },
        {
          "output_type": "display_data",
          "data": {
            "text/plain": [
              "<Figure size 640x480 with 1 Axes>"
            ],
            "image/png": "[encoded data removed]"
          },
          "metadata": {}
        }
      ]
    },
    {
      "cell_type": "code",
      "source": [
        "# plt.imshow(train_set_x_data[80])\n",
        "train_set_x_data[1]"
      ],
      "metadata": {
        "colab": {
          "base_uri": "https://localhost:8080/",
          "height": 105
        },
        "id": "Tih_8CxfX6GW",
        "outputId": "b312671b-0f78-4e8e-bd57-9c50581159a1"
      },
      "execution_count": 18,
      "outputs": [
        {
          "output_type": "execute_result",
          "data": {
            "text/plain": [
              "array([[[196, 192, 190],\n",
              "        [193, 186, 182],\n",
              "        [188, 179, 174],\n",
              "        ...,\n",
              "        [ 90, 142, 200],\n",
              "        [ 90, 142, 201],\n",
              "        [ 90, 142, 201]],\n",
              "\n",
              "       [[230, 229, 229],\n",
              "        [204, 199, 197],\n",
              "        [193, 186, 181],\n",
              "        ...,\n",
              "        [ 91, 143, 201],\n",
              "        [ 91, 143, 201],\n",
              "        [ 91, 143, 201]],\n",
              "\n",
              "       [[232, 225, 224],\n",
              "        [235, 234, 234],\n",
              "        [208, 205, 202],\n",
              "        ...,\n",
              "        [ 91, 144, 202],\n",
              "        [ 91, 144, 202],\n",
              "        [ 92, 144, 202]],\n",
              "\n",
              "       ...,\n",
              "\n",
              "       [[ 18,  17,  15],\n",
              "        [ 14,  14,  13],\n",
              "        [ 29,  29,  32],\n",
              "        ...,\n",
              "        [ 83,  81,  81],\n",
              "        [ 84,  82,  83],\n",
              "        [ 82,  81,  82]],\n",
              "\n",
              "       [[ 22,  20,  18],\n",
              "        [ 16,  15,  14],\n",
              "        [ 25,  24,  24],\n",
              "        ...,\n",
              "        [ 82,  80,  80],\n",
              "        [ 83,  81,  82],\n",
              "        [ 82,  81,  81]],\n",
              "\n",
              "       [[ 45,  43,  39],\n",
              "        [ 61,  59,  54],\n",
              "        [ 81,  78,  74],\n",
              "        ...,\n",
              "        [ 83,  82,  81],\n",
              "        [ 84,  82,  82],\n",
              "        [ 82,  80,  81]]], dtype=uint8)"
            ],
            "text/html": [
              "<style>\n",
              "      .ndarray_repr .ndarray_raw_data {\n",
              "        display: none;\n",
              "      }\n",
              "      .ndarray_repr.show_array .ndarray_raw_data {\n",
              "        display: block;\n",
              "      }\n",
              "      .ndarray_repr.show_array .ndarray_image_preview {\n",
              "        display: none;\n",
              "      }\n",
              "      </style>\n",
              "      <div id=\"id-b40ac3f2-3d22-4d62-8d61-4d0a9112722e\" class=\"ndarray_repr\"><pre>ndarray (64, 64, 3) <button style=\"padding: 0 2px;\">show data</button></pre><img src=\"data:image/png;base64,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\" class=\"ndarray_image_preview\" /><pre class=\"ndarray_raw_data\">array([[[196, 192, 190],\n",
              "        [193, 186, 182],\n",
              "        [188, 179, 174],\n",
              "        ...,\n",
              "        [ 90, 142, 200],\n",
              "        [ 90, 142, 201],\n",
              "        [ 90, 142, 201]],\n",
              "\n",
              "       [[230, 229, 229],\n",
              "        [204, 199, 197],\n",
              "        [193, 186, 181],\n",
              "        ...,\n",
              "        [ 91, 143, 201],\n",
              "        [ 91, 143, 201],\n",
              "        [ 91, 143, 201]],\n",
              "\n",
              "       [[232, 225, 224],\n",
              "        [235, 234, 234],\n",
              "        [208, 205, 202],\n",
              "        ...,\n",
              "        [ 91, 144, 202],\n",
              "        [ 91, 144, 202],\n",
              "        [ 92, 144, 202]],\n",
              "\n",
              "       ...,\n",
              "\n",
              "       [[ 18,  17,  15],\n",
              "        [ 14,  14,  13],\n",
              "        [ 29,  29,  32],\n",
              "        ...,\n",
              "        [ 83,  81,  81],\n",
              "        [ 84,  82,  83],\n",
              "        [ 82,  81,  82]],\n",
              "\n",
              "       [[ 22,  20,  18],\n",
              "        [ 16,  15,  14],\n",
              "        [ 25,  24,  24],\n",
              "        ...,\n",
              "        [ 82,  80,  80],\n",
              "        [ 83,  81,  82],\n",
              "        [ 82,  81,  81]],\n",
              "\n",
              "       [[ 45,  43,  39],\n",
              "        [ 61,  59,  54],\n",
              "        [ 81,  78,  74],\n",
              "        ...,\n",
              "        [ 83,  82,  81],\n",
              "        [ 84,  82,  82],\n",
              "        [ 82,  80,  81]]], dtype=uint8)</pre></div><script>\n",
              "      (() => {\n",
              "      const titles = ['show data', 'hide data'];\n",
              "      let index = 0\n",
              "      document.querySelector('#id-b40ac3f2-3d22-4d62-8d61-4d0a9112722e button').onclick = (e) => {\n",
              "        document.querySelector('#id-b40ac3f2-3d22-4d62-8d61-4d0a9112722e').classList.toggle('show_array');\n",
              "        index = (++index) % 2;\n",
              "        document.querySelector('#id-b40ac3f2-3d22-4d62-8d61-4d0a9112722e button').textContent = titles[index];\n",
              "        e.preventDefault();\n",
              "        e.stopPropagation();\n",
              "      }\n",
              "      })();\n",
              "    </script>"
            ]
          },
          "metadata": {},
          "execution_count": 18
        }
      ]
    },
    {
      "cell_type": "code",
      "source": [
        "train_x_flatten = train_set_x_data.reshape(train_set_x_data.shape[0],-1).T #WhyTF we are taking transpose here know it more clearly\n",
        "train_y_flatten = train_set_y_data.reshape(train_set_y_data.shape[0],-1).T"
      ],
      "metadata": {
        "id": "_wi4ydxhYObn"
      },
      "execution_count": 49,
      "outputs": []
    },
    {
      "cell_type": "code",
      "source": [
        "train_x_flatten = train_x_flatten.astype(float) / 255."
      ],
      "metadata": {
        "id": "BiDTb6uvhw-t"
      },
      "execution_count": 85,
      "outputs": []
    },
    {
      "cell_type": "code",
      "source": [
        "train_x_flatten[:10]"
      ],
      "metadata": {
        "colab": {
          "base_uri": "https://localhost:8080/",
          "height": 158
        },
        "id": "d0n_ywfpaN8U",
        "outputId": "18754120-42a6-4cea-84f5-42e755b68100"
      },
      "execution_count": 83,
      "outputs": [
        {
          "output_type": "execute_result",
          "data": {
            "text/plain": [
              "array([[ 17, 196,  82, ..., 143,  22,   8],\n",
              "       [ 31, 192,  71, ..., 155,  24,  28],\n",
              "       [ 56, 190,  68, ..., 165,  23,  53],\n",
              "       ...,\n",
              "       [ 35, 179,  98, ..., 149,  26,  35],\n",
              "       [ 62, 174, 104, ..., 155,  25,  61],\n",
              "       [ 25, 213, 106, ..., 135,  24,  19]], dtype=uint8)"
            ],
            "text/html": [
              "<style>\n",
              "      .ndarray_repr .ndarray_raw_data {\n",
              "        display: none;\n",
              "      }\n",
              "      .ndarray_repr.show_array .ndarray_raw_data {\n",
              "        display: block;\n",
              "      }\n",
              "      .ndarray_repr.show_array .ndarray_image_preview {\n",
              "        display: none;\n",
              "      }\n",
              "      </style>\n",
              "      <div id=\"id-878b092e-7c08-439e-a656-28ad5c569071\" class=\"ndarray_repr\"><pre>ndarray (10, 209) <button style=\"padding: 0 2px;\">show data</button></pre><img src=\"data:image/png;base64,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\" class=\"ndarray_image_preview\" /><pre class=\"ndarray_raw_data\">array([[ 17, 196,  82, ..., 143,  22,   8],\n",
              "       [ 31, 192,  71, ..., 155,  24,  28],\n",
              "       [ 56, 190,  68, ..., 165,  23,  53],\n",
              "       ...,\n",
              "       [ 35, 179,  98, ..., 149,  26,  35],\n",
              "       [ 62, 174, 104, ..., 155,  25,  61],\n",
              "       [ 25, 213, 106, ..., 135,  24,  19]], dtype=uint8)</pre></div><script>\n",
              "      (() => {\n",
              "      const titles = ['show data', 'hide data'];\n",
              "      let index = 0\n",
              "      document.querySelector('#id-878b092e-7c08-439e-a656-28ad5c569071 button').onclick = (e) => {\n",
              "        document.querySelector('#id-878b092e-7c08-439e-a656-28ad5c569071').classList.toggle('show_array');\n",
              "        index = (++index) % 2;\n",
              "        document.querySelector('#id-878b092e-7c08-439e-a656-28ad5c569071 button').textContent = titles[index];\n",
              "        e.preventDefault();\n",
              "        e.stopPropagation();\n",
              "      }\n",
              "      })();\n",
              "    </script>"
            ]
          },
          "metadata": {},
          "execution_count": 83
        }
      ]
    },
    {
      "cell_type": "code",
      "source": [
        "def l_layer_network(X,Y,layer_dims, l_rate,n_iter):\n",
        "  params = initialize_params_deep(layer_dims,X)\n",
        "  for i in range(n_iter):\n",
        "    Al, caches = L_model_forward(X,params)\n",
        "    cost = compute_cost(Al, Y)\n",
        "    if i%100==0:\n",
        "      print(f\"Cost of iteration {i} is {cost}\")\n",
        "    grads = L_model_backward(Al,Y,caches)\n",
        "    params = update_parameters(params,grads,l_rate)\n",
        "  return params # Return the final trained parameters"
      ],
      "metadata": {
        "id": "5zbijNg4btHL"
      },
      "execution_count": 76,
      "outputs": []
    },
    {
      "cell_type": "code",
      "source": [
        "# layer_dims = [12288,20,7,5,1] took like 18 mins for a single pass beware of your NN size\n",
        "layer_dims = [20,7,5,1]"
      ],
      "metadata": {
        "id": "mYUnmJh-ddo7"
      },
      "execution_count": 91,
      "outputs": []
    },
    {
      "cell_type": "code",
      "metadata": {
        "colab": {
          "base_uri": "https://localhost:8080/",
          "height": 321
        },
        "collapsed": true,
        "id": "2f4a0874",
        "outputId": "6bbea2d2-1b40-4f02-ba00-c64b7fdf61e2"
      },
      "source": [
        "parameters = l_layer_network(train_x_flatten,train_y_flatten,layer_dims, 0.0075,1000)"
      ],
      "execution_count": 90,
      "outputs": [
        {
          "output_type": "stream",
          "name": "stdout",
          "text": [
            "Cost of iteration 0 is 0.6931466430037496\n",
            "Cost of iteration 100 is 0.6780099291977538\n"
          ]
        },
        {
          "output_type": "error",
          "ename": "KeyboardInterrupt",
          "evalue": "",
          "traceback": [
            "\u001b[0;31m---------------------------------------------------------------------------\u001b[0m",
            "\u001b[0;31mKeyboardInterrupt\u001b[0m                         Traceback (most recent call last)",
            "\u001b[0;32m/tmp/ipython-input-90-3891186084.py\u001b[0m in \u001b[0;36m<cell line: 0>\u001b[0;34m()\u001b[0m\n\u001b[0;32m----> 1\u001b[0;31m \u001b[0mparameters\u001b[0m \u001b[0;34m=\u001b[0m \u001b[0ml_layer_network\u001b[0m\u001b[0;34m(\u001b[0m\u001b[0mtrain_x_flatten\u001b[0m\u001b[0;34m,\u001b[0m\u001b[0mtrain_y_flatten\u001b[0m\u001b[0;34m,\u001b[0m\u001b[0mlayer_dims\u001b[0m\u001b[0;34m,\u001b[0m \u001b[0;36m0.0075\u001b[0m\u001b[0;34m,\u001b[0m\u001b[0;36m1000\u001b[0m\u001b[0;34m)\u001b[0m\u001b[0;34m\u001b[0m\u001b[0;34m\u001b[0m\u001b[0m\n\u001b[0m",
            "\u001b[0;32m/tmp/ipython-input-76-391313067.py\u001b[0m in \u001b[0;36ml_layer_network\u001b[0;34m(X, Y, layer_dims, l_rate, n_iter)\u001b[0m\n\u001b[1;32m      6\u001b[0m     \u001b[0;32mif\u001b[0m \u001b[0mi\u001b[0m\u001b[0;34m%\u001b[0m\u001b[0;36m100\u001b[0m\u001b[0;34m==\u001b[0m\u001b[0;36m0\u001b[0m\u001b[0;34m:\u001b[0m\u001b[0;34m\u001b[0m\u001b[0;34m\u001b[0m\u001b[0m\n\u001b[1;32m      7\u001b[0m       \u001b[0mprint\u001b[0m\u001b[0;34m(\u001b[0m\u001b[0;34mf\"Cost of iteration {i} is {cost}\"\u001b[0m\u001b[0;34m)\u001b[0m\u001b[0;34m\u001b[0m\u001b[0;34m\u001b[0m\u001b[0m\n\u001b[0;32m----> 8\u001b[0;31m     \u001b[0mgrads\u001b[0m \u001b[0;34m=\u001b[0m \u001b[0mL_model_backward\u001b[0m\u001b[0;34m(\u001b[0m\u001b[0mAl\u001b[0m\u001b[0;34m,\u001b[0m\u001b[0mY\u001b[0m\u001b[0;34m,\u001b[0m\u001b[0mcaches\u001b[0m\u001b[0;34m)\u001b[0m\u001b[0;34m\u001b[0m\u001b[0;34m\u001b[0m\u001b[0m\n\u001b[0m\u001b[1;32m      9\u001b[0m     \u001b[0mparams\u001b[0m \u001b[0;34m=\u001b[0m \u001b[0mupdate_parameters\u001b[0m\u001b[0;34m(\u001b[0m\u001b[0mparams\u001b[0m\u001b[0;34m,\u001b[0m\u001b[0mgrads\u001b[0m\u001b[0;34m,\u001b[0m\u001b[0ml_rate\u001b[0m\u001b[0;34m)\u001b[0m\u001b[0;34m\u001b[0m\u001b[0;34m\u001b[0m\u001b[0m\n\u001b[1;32m     10\u001b[0m   \u001b[0;32mreturn\u001b[0m \u001b[0mparams\u001b[0m \u001b[0;31m# Return the final trained parameters\u001b[0m\u001b[0;34m\u001b[0m\u001b[0;34m\u001b[0m\u001b[0m\n",
            "\u001b[0;32m/tmp/ipython-input-28-2446464597.py\u001b[0m in \u001b[0;36mL_model_backward\u001b[0;34m(AL, Y, caches)\u001b[0m\n\u001b[1;32m     13\u001b[0m   \u001b[0;32mfor\u001b[0m \u001b[0ml\u001b[0m \u001b[0;32min\u001b[0m \u001b[0mreversed\u001b[0m\u001b[0;34m(\u001b[0m\u001b[0mrange\u001b[0m\u001b[0;34m(\u001b[0m\u001b[0mnum_layers\u001b[0m \u001b[0;34m-\u001b[0m \u001b[0;36m1\u001b[0m\u001b[0;34m)\u001b[0m\u001b[0;34m)\u001b[0m\u001b[0;34m:\u001b[0m\u001b[0;34m\u001b[0m\u001b[0;34m\u001b[0m\u001b[0m\n\u001b[1;32m     14\u001b[0m     \u001b[0mcurrent_cache\u001b[0m \u001b[0;34m=\u001b[0m \u001b[0mcaches\u001b[0m\u001b[0;34m[\u001b[0m\u001b[0ml\u001b[0m\u001b[0;34m]\u001b[0m\u001b[0;34m\u001b[0m\u001b[0;34m\u001b[0m\u001b[0m\n\u001b[0;32m---> 15\u001b[0;31m     \u001b[0mdA_prev_temp\u001b[0m\u001b[0;34m,\u001b[0m \u001b[0mdW_temp\u001b[0m\u001b[0;34m,\u001b[0m \u001b[0mdb_temp\u001b[0m \u001b[0;34m=\u001b[0m \u001b[0mlinear_activation_backward\u001b[0m\u001b[0;34m(\u001b[0m\u001b[0mgrads\u001b[0m\u001b[0;34m[\u001b[0m\u001b[0;34mf\"dA{l + 1}\"\u001b[0m\u001b[0;34m]\u001b[0m\u001b[0;34m,\u001b[0m \u001b[0mcurrent_cache\u001b[0m\u001b[0;34m,\u001b[0m \u001b[0mactivation\u001b[0m \u001b[0;34m=\u001b[0m \u001b[0;34m\"relu\"\u001b[0m\u001b[0;34m)\u001b[0m\u001b[0;34m\u001b[0m\u001b[0;34m\u001b[0m\u001b[0m\n\u001b[0m\u001b[1;32m     16\u001b[0m \u001b[0;34m\u001b[0m\u001b[0m\n\u001b[1;32m     17\u001b[0m     \u001b[0mgrads\u001b[0m\u001b[0;34m[\u001b[0m\u001b[0;34mf\"dA{l}\"\u001b[0m\u001b[0;34m]\u001b[0m \u001b[0;34m=\u001b[0m \u001b[0mdA_prev_temp\u001b[0m\u001b[0;34m\u001b[0m\u001b[0;34m\u001b[0m\u001b[0m\n",
            "\u001b[0;32m/tmp/ipython-input-12-1758684279.py\u001b[0m in \u001b[0;36mlinear_activation_backward\u001b[0;34m(dA, cache, activation)\u001b[0m\n\u001b[1;32m      7\u001b[0m     \u001b[0mdZ\u001b[0m \u001b[0;34m=\u001b[0m \u001b[0msigmoid_backward\u001b[0m\u001b[0;34m(\u001b[0m\u001b[0mdA\u001b[0m\u001b[0;34m,\u001b[0m \u001b[0mactivation_cache\u001b[0m\u001b[0;34m)\u001b[0m\u001b[0;34m\u001b[0m\u001b[0;34m\u001b[0m\u001b[0m\n\u001b[1;32m      8\u001b[0m \u001b[0;34m\u001b[0m\u001b[0m\n\u001b[0;32m----> 9\u001b[0;31m   \u001b[0mdA_prev\u001b[0m\u001b[0;34m,\u001b[0m \u001b[0mdW\u001b[0m\u001b[0;34m,\u001b[0m \u001b[0mdb\u001b[0m \u001b[0;34m=\u001b[0m \u001b[0mlinear_backward\u001b[0m\u001b[0;34m(\u001b[0m\u001b[0mdZ\u001b[0m\u001b[0;34m,\u001b[0m\u001b[0mlinear_cache\u001b[0m\u001b[0;34m)\u001b[0m\u001b[0;34m\u001b[0m\u001b[0;34m\u001b[0m\u001b[0m\n\u001b[0m\u001b[1;32m     10\u001b[0m \u001b[0;34m\u001b[0m\u001b[0m\n\u001b[1;32m     11\u001b[0m   \u001b[0;32mreturn\u001b[0m \u001b[0mdA_prev\u001b[0m\u001b[0;34m,\u001b[0m \u001b[0mdW\u001b[0m\u001b[0;34m,\u001b[0m \u001b[0mdb\u001b[0m\u001b[0;34m\u001b[0m\u001b[0;34m\u001b[0m\u001b[0m\n",
            "\u001b[0;32m/tmp/ipython-input-11-2915440015.py\u001b[0m in \u001b[0;36mlinear_backward\u001b[0;34m(dZ, cache)\u001b[0m\n\u001b[1;32m      2\u001b[0m     \u001b[0mA_prev\u001b[0m\u001b[0;34m,\u001b[0m \u001b[0mW\u001b[0m\u001b[0;34m,\u001b[0m \u001b[0mb\u001b[0m \u001b[0;34m=\u001b[0m \u001b[0mcache\u001b[0m\u001b[0;34m\u001b[0m\u001b[0;34m\u001b[0m\u001b[0m\n\u001b[1;32m      3\u001b[0m     \u001b[0mm\u001b[0m \u001b[0;34m=\u001b[0m \u001b[0mA_prev\u001b[0m\u001b[0;34m.\u001b[0m\u001b[0mshape\u001b[0m\u001b[0;34m[\u001b[0m\u001b[0;36m1\u001b[0m\u001b[0;34m]\u001b[0m\u001b[0;34m\u001b[0m\u001b[0;34m\u001b[0m\u001b[0m\n\u001b[0;32m----> 4\u001b[0;31m     \u001b[0mdW\u001b[0m \u001b[0;34m=\u001b[0m \u001b[0;34m(\u001b[0m\u001b[0;36m1\u001b[0m\u001b[0;34m/\u001b[0m\u001b[0mm\u001b[0m\u001b[0;34m)\u001b[0m \u001b[0;34m*\u001b[0m \u001b[0mnp\u001b[0m\u001b[0;34m.\u001b[0m\u001b[0mdot\u001b[0m\u001b[0;34m(\u001b[0m\u001b[0mdZ\u001b[0m\u001b[0;34m,\u001b[0m \u001b[0mA_prev\u001b[0m\u001b[0;34m.\u001b[0m\u001b[0mT\u001b[0m\u001b[0;34m)\u001b[0m\u001b[0;34m\u001b[0m\u001b[0;34m\u001b[0m\u001b[0m\n\u001b[0m\u001b[1;32m      5\u001b[0m     \u001b[0mdb\u001b[0m \u001b[0;34m=\u001b[0m \u001b[0;34m(\u001b[0m\u001b[0;36m1\u001b[0m\u001b[0;34m/\u001b[0m\u001b[0mm\u001b[0m\u001b[0;34m)\u001b[0m \u001b[0;34m*\u001b[0m \u001b[0mnp\u001b[0m\u001b[0;34m.\u001b[0m\u001b[0msum\u001b[0m\u001b[0;34m(\u001b[0m\u001b[0mdZ\u001b[0m\u001b[0;34m,\u001b[0m \u001b[0maxis\u001b[0m\u001b[0;34m=\u001b[0m\u001b[0;36m1\u001b[0m\u001b[0;34m,\u001b[0m \u001b[0mkeepdims\u001b[0m\u001b[0;34m=\u001b[0m\u001b[0;32mTrue\u001b[0m\u001b[0;34m)\u001b[0m\u001b[0;34m\u001b[0m\u001b[0;34m\u001b[0m\u001b[0m\n\u001b[1;32m      6\u001b[0m     \u001b[0mdA_prev\u001b[0m \u001b[0;34m=\u001b[0m \u001b[0mnp\u001b[0m\u001b[0;34m.\u001b[0m\u001b[0mdot\u001b[0m\u001b[0;34m(\u001b[0m\u001b[0mW\u001b[0m\u001b[0;34m.\u001b[0m\u001b[0mT\u001b[0m\u001b[0;34m,\u001b[0m\u001b[0mdZ\u001b[0m\u001b[0;34m)\u001b[0m\u001b[0;34m\u001b[0m\u001b[0;34m\u001b[0m\u001b[0m\n",
            "\u001b[0;31mKeyboardInterrupt\u001b[0m: "
          ]
        }
      ]
    },
    {
      "cell_type": "code",
      "source": [
        "L_model_forward(train_x_flatten,parameters)"
      ],
      "metadata": {
        "id": "YetEnaXdbiQm"
      },
      "execution_count": null,
      "outputs": []
    },
    {
      "cell_type": "code",
      "metadata": {
        "colab": {
          "base_uri": "https://localhost:8080/"
        },
        "id": "3bb4636e",
        "outputId": "fa61afe5-9e94-4561-97b1-7ac393ebda2b"
      },
      "source": [
        "# Predict on the training set\n",
        "train_predictions,_ = L_model_forward(train_x_flatten,parameters)\n",
        "train_predictions = train_predictions >= 0.5\n",
        "\n",
        "# Calculate training accuracy\n",
        "training_accuracy = np.mean(train_predictions == train_y_flatten) * 100\n",
        "\n",
        "print(f\"Training Accuracy: {training_accuracy}%\")"
      ],
      "execution_count": 80,
      "outputs": [
        {
          "output_type": "stream",
          "name": "stdout",
          "text": [
            "Training Accuracy: 65.55023923444976%\n"
          ]
        }
      ]
    }
  ]
}