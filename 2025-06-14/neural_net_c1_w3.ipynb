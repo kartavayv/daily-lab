{
  "nbformat": 4,
  "nbformat_minor": 0,
  "metadata": {
    "colab": {
      "provenance": []
    },
    "kernelspec": {
      "name": "python3",
      "display_name": "Python 3"
    },
    "language_info": {
      "name": "python"
    }
  },
  "cells": [
    {
      "cell_type": "code",
      "source": [
        "import numpy as np\n",
        "import matplotlib.pyplot as plt"
      ],
      "metadata": {
        "id": "rokk0WaqSFNg"
      },
      "execution_count": 1,
      "outputs": []
    },
    {
      "cell_type": "code",
      "execution_count": null,
      "metadata": {
        "id": "O6YUR8uiME5a"
      },
      "outputs": [],
      "source": [
        "def ini_layers(X,Y):\n",
        "  n_x = X.shape[0]\n",
        "  n_y = Y.shape[0]\n",
        "\n",
        "  return (n_x,n_y)"
      ]
    },
    {
      "cell_type": "code",
      "source": [
        "def ini_params(n_h, n_x,n_y):\n",
        "  W1 = np.random.rand(n_h,n_x)\n",
        "  b1 = np.random.rand(n_h,1)\n",
        "  W2 = np.random.rand(n_y,n_h)\n",
        "  b2 = np.random.rand(n_y,1)\n",
        "\n",
        "  params = {\n",
        "      \"W1\": W1,\n",
        "      \"B1\": b1,\n",
        "      \"W2\": W2,\n",
        "      \"B2\": b2\n",
        "  }\n",
        "\n",
        "  return params"
      ],
      "metadata": {
        "id": "icp3TWDIN7Yw"
      },
      "execution_count": null,
      "outputs": []
    },
    {
      "cell_type": "code",
      "source": [
        "def comp_cost(A2,y):\n",
        "  p1 = np.multiply(y,np.log(A2))\n",
        "  p2 = np.multiply(1-y,np.log(1-A2))\n",
        "  m = y.shape[0]\n",
        "  sum = (-1/m) * np.sum(p1+p2)\n",
        "\n",
        "  return sum"
      ],
      "metadata": {
        "id": "zCrmlHJvSUui"
      },
      "execution_count": null,
      "outputs": []
    },
    {
      "cell_type": "code",
      "source": [
        "def sigmoid(x):\n",
        "  epsilon = 1e-15\n",
        "  x = np.clip(x,epsilon, 1-epsilon)\n",
        "  return 1 / (1+np.exp(-x))"
      ],
      "metadata": {
        "id": "rRS7Rq3bkgYr"
      },
      "execution_count": null,
      "outputs": []
    },
    {
      "cell_type": "code",
      "source": [
        "def forward_prop(X,params):\n",
        "  W1 = params['W1']\n",
        "  b1 = params['B1']\n",
        "  W2 = params['W2']\n",
        "  b2 = params['B2']\n",
        "\n",
        "  Z1 = np.dot(W1,X) + b1\n",
        "  A1 = np.tanh(Z1)\n",
        "  Z2 = np.dot(W2,A1) + b2\n",
        "  A2 = sigmoid(Z2) # Changed to sigmoid activation for the output layer\n",
        "\n",
        "  cache = {\n",
        "      \"Z1\": Z1,\n",
        "      \"A1\": A1,\n",
        "      \"Z2\":Z2,\n",
        "      \"A2\":A2\n",
        "  }\n",
        "\n",
        "  return (A2,cache)"
      ],
      "metadata": {
        "id": "zOE5k0fYTBn1"
      },
      "execution_count": null,
      "outputs": []
    },
    {
      "cell_type": "code",
      "source": [
        "def back_prop(X,Y,params,cache):\n",
        "  Z1 = cache['Z1']\n",
        "  A1 = cache['A1']\n",
        "  Z2 = cache['Z2']\n",
        "  A2 = cache['A2']\n",
        "\n",
        "  W2 = params['W2']\n",
        "\n",
        "  m = Y.shape[0]\n",
        "\n",
        "  dz2 = A2 - Y\n",
        "  dw2 = (1/m) * np.dot(dz2,A1.T)\n",
        "  db2 = (1/m) * np.sum(dz2, axis=1, keepdims=True)\n",
        "  dz1 = np.dot(W2.T,dz2) * (1-np.power(A1,2))\n",
        "  dw1 = (1/m) * np.dot(dz1,X.T)\n",
        "  db1 = (1/m) * np.sum(dz1,axis = 1, keepdims=True)\n",
        "\n",
        "  grads = {\n",
        "      \"dw2\":dw2,\n",
        "      \"db2\":db2,\n",
        "      \"dw1\":dw1,\n",
        "      \"db1\":db1\n",
        "  }\n",
        "\n",
        "  return grads"
      ],
      "metadata": {
        "id": "JhCUeVo0YiXJ"
      },
      "execution_count": null,
      "outputs": []
    },
    {
      "cell_type": "code",
      "source": [
        "def update_params(params,grads,l_rate):\n",
        "\n",
        "    dw1 = grads[\"dw1\"]\n",
        "    db1 = grads[\"db1\"]\n",
        "    dw2 = grads[\"dw2\"]\n",
        "    db2 = grads[\"db2\"]\n",
        "\n",
        "    W1 = params['W1']\n",
        "    b1 = params['B1']\n",
        "    W2 = params['W2']\n",
        "    b2 = params['B2']\n",
        "\n",
        "    W1 = W1 - (l_rate * dw1)\n",
        "    b1 = b1 - (l_rate * db1)\n",
        "    W2 = W2 - (l_rate * dw2)\n",
        "    b2 = b2 - (l_rate * db2)\n",
        "\n",
        "    params = {\"W1\": W1,\n",
        "              \"B1\": b1,\n",
        "              \"W2\": W2,\n",
        "             \"B2\": b2}\n",
        "\n",
        "    return params\n"
      ],
      "metadata": {
        "id": "TxiW82cqeGQb"
      },
      "execution_count": null,
      "outputs": []
    },
    {
      "cell_type": "code",
      "source": [
        "def nn_model(X,Y,n_h,n_iter,l_rate):\n",
        "  (n_x,n_y) = ini_layers(X,Y)\n",
        "  parameters = ini_params(n_h,n_x,n_y) #parameters should not be params here\n",
        "  costs = []\n",
        "  for i in range(n_iter):\n",
        "    A2,cache = forward_prop(X,parameters)\n",
        "    cost = comp_cost(A2,Y)\n",
        "    costs.append(cost)\n",
        "    grads = back_prop(X,Y,parameters,cache)\n",
        "    parameters = update_params(parameters,grads,l_rate)\n",
        "\n",
        "    if i % 100 ==0:\n",
        "      print(f\"THE COST FOR ITERATION {i} is\", cost)\n",
        "\n",
        "  return (parameters,costs,A2)"
      ],
      "metadata": {
        "id": "han33D6XiF2W"
      },
      "execution_count": null,
      "outputs": []
    },
    {
      "cell_type": "code",
      "source": [
        "from sklearn.datasets import load_iris\n",
        "\n",
        "data = load_iris()\n",
        "X, Y = data.data, data.target\n",
        "\n",
        "Y = Y.reshape(-1,1)"
      ],
      "metadata": {
        "id": "OUESpLqRlPZT"
      },
      "execution_count": null,
      "outputs": []
    },
    {
      "cell_type": "code",
      "source": [
        "print(X.shape,Y.shape)"
      ],
      "metadata": {
        "colab": {
          "base_uri": "https://localhost:8080/"
        },
        "id": "QgHbeREzd04L",
        "outputId": "8677b304-7740-45fd-c80f-db526cd014d4"
      },
      "execution_count": null,
      "outputs": [
        {
          "output_type": "stream",
          "name": "stdout",
          "text": [
            "(150, 4) (150, 1)\n"
          ]
        }
      ]
    },
    {
      "cell_type": "code",
      "source": [
        "outputs,costs, A2 = nn_model(X,Y,4,1000,4)"
      ],
      "metadata": {
        "colab": {
          "base_uri": "https://localhost:8080/"
        },
        "id": "8P_Idemql6fU",
        "outputId": "cebe6c06-5bb2-4e27-e2b2-aa8357a44f11"
      },
      "execution_count": null,
      "outputs": [
        {
          "output_type": "stream",
          "name": "stdout",
          "text": [
            "THE COST FOR ITERATION 0 is 1.2616826727405215\n",
            "THE COST FOR ITERATION 100 is 0.42622740746185733\n",
            "THE COST FOR ITERATION 200 is 0.42622740746185733\n",
            "THE COST FOR ITERATION 300 is 0.42622740746185733\n",
            "THE COST FOR ITERATION 400 is 0.42622740746185733\n",
            "THE COST FOR ITERATION 500 is 0.42622740746185733\n",
            "THE COST FOR ITERATION 600 is 0.42622740746185733\n",
            "THE COST FOR ITERATION 700 is 0.42622740746185733\n",
            "THE COST FOR ITERATION 800 is 0.42622740746185733\n",
            "THE COST FOR ITERATION 900 is 0.42622740746185733\n"
          ]
        }
      ]
    },
    {
      "cell_type": "code",
      "source": [
        "import matplotlib.pyplot as plt\n",
        "\n",
        "plt.plot(np.arange(1000),costs)\n",
        "plt.xlabel(\"Iterations\")\n",
        "plt.ylabel(\"COST FUNCTION\")\n",
        "plt.title(\"COST vs ITERATION\")\n",
        "plt.show()"
      ],
      "metadata": {
        "colab": {
          "base_uri": "https://localhost:8080/",
          "height": 472
        },
        "id": "bIq70TXSk1sM",
        "outputId": "c10b5c3a-eb64-4af0-b479-8d6191799789"
      },
      "execution_count": null,
      "outputs": [
        {
          "output_type": "display_data",
          "data": {
            "text/plain": [
              "<Figure size 640x480 with 1 Axes>"
            ],
            "image/png": "[encoded data removed]"
          },
          "metadata": {}
        }
      ]
    },
    {
      "cell_type": "markdown",
      "source": [
        "#checking accuracy"
      ],
      "metadata": {
        "id": "SnpgPPhlsMJG"
      }
    },
    {
      "cell_type": "code",
      "source": [
        "A2.shape # the results are the problem of your dataset it's multiclass but your output layer is log reg"
      ],
      "metadata": {
        "colab": {
          "base_uri": "https://localhost:8080/"
        },
        "id": "gjQ5FMHXsOg0",
        "outputId": "fda85998-08d6-4e05-ab66-91e5aa36e692"
      },
      "execution_count": null,
      "outputs": [
        {
          "output_type": "execute_result",
          "data": {
            "text/plain": [
              "(150, 4)"
            ]
          },
          "metadata": {},
          "execution_count": 108
        }
      ]
    }
  ]
}